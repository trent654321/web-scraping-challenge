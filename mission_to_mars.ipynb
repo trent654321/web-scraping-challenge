{
 "cells": [
  {
   "cell_type": "code",
   "execution_count": 32,
   "id": "077e48c1",
   "metadata": {},
   "outputs": [],
   "source": [
    "#dependencies\n",
    "from bs4 import BeautifulSoup\n",
    "import requests\n",
    "from selenium import webdriver\n",
    "from splinter import Browser"
   ]
  },
  {
   "cell_type": "code",
   "execution_count": 31,
   "id": "f8ab72ad",
   "metadata": {},
   "outputs": [
    {
     "name": "stdout",
     "output_type": "stream",
     "text": [
      "NASA's Mars 2020 Will Hunt for Microscopic Fossils\n",
      "A new paper identifies a ring of minerals at the rover's landing site that are ideal for fossilizing microbial life.\n"
     ]
    }
   ],
   "source": [
    "news=[]\n",
    "url = 'https://redplanetscience.com/#'\n",
    "driver = webdriver.Chrome()\n",
    "driver.get(url)           \n",
    "html = driver.page_source\n",
    "soup = BeautifulSoup(html)\n",
    "results = soup.find('div', class_='list_text')\n",
    "news_title = results.find('div',class_='content_title').text\n",
    "news_p = results.find('div',class_='article_teaser_body').text\n",
    "print(news_title)\n",
    "print(news_p)"
   ]
  },
  {
   "cell_type": "code",
   "execution_count": 60,
   "id": "e3495de1",
   "metadata": {},
   "outputs": [
    {
     "name": "stdout",
     "output_type": "stream",
     "text": [
      "FULL IMAGE\n"
     ]
    }
   ],
   "source": [
    "with Browser('chrome') as browser:\n",
    "    url = \"https://spaceimages-mars.com\"\n",
    "    browser.visit(url)\n",
    "    element = browser.find_by_css('div[class=\"floating_text_area\"]')\n",
    "    links = element.find_by_css('a').value\n",
    "    print(links)"
   ]
  },
  {
   "cell_type": "code",
   "execution_count": null,
   "id": "b9b36391",
   "metadata": {},
   "outputs": [],
   "source": []
  },
  {
   "cell_type": "code",
   "execution_count": null,
   "id": "aac1db99",
   "metadata": {},
   "outputs": [],
   "source": []
  }
 ],
 "metadata": {
  "kernelspec": {
   "display_name": "Python 3",
   "language": "python",
   "name": "python3"
  },
  "language_info": {
   "codemirror_mode": {
    "name": "ipython",
    "version": 3
   },
   "file_extension": ".py",
   "mimetype": "text/x-python",
   "name": "python",
   "nbconvert_exporter": "python",
   "pygments_lexer": "ipython3",
   "version": "3.6.10"
  }
 },
 "nbformat": 4,
 "nbformat_minor": 5
}
